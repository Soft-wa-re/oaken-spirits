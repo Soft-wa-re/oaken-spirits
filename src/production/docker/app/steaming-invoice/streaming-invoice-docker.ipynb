{
 "cells": [
  {
   "cell_type": "code",
   "execution_count": 11,
   "metadata": {},
   "outputs": [],
   "source": [
    "from kafka import KafkaProducer\n",
    "from time import sleep\n",
    "from json import dumps\n",
    "from json import loads\n",
    "import csv"
   ]
  },
  {
   "cell_type": "markdown",
   "metadata": {},
   "source": [
    "Connect to Kafka"
   ]
  },
  {
   "cell_type": "code",
   "execution_count": 12,
   "metadata": {},
   "outputs": [],
   "source": [
    "producer = KafkaProducer(bootstrap_servers=['localhost:19092','localhost:19093','localhost:19094'],\n",
    "                         value_serializer=lambda x: \n",
    "                         dumps(x).encode('utf-8'))"
   ]
  },
  {
   "cell_type": "markdown",
   "metadata": {},
   "source": [
    "Start Streaming"
   ]
  },
  {
   "cell_type": "code",
   "execution_count": 13,
   "metadata": {},
   "outputs": [],
   "source": [
    "SLEEP = 0\n",
    "\n",
    "def make_serializable(d):\n",
    "    serializable_dict = {}\n",
    "    for key, value in d.items():\n",
    "        if isinstance(value, (list, dict, str, int, float, bool, type(None))):\n",
    "            serializable_dict[key] = value\n",
    "        else:\n",
    "            serializable_dict[key] = str(value)  # Convert non-serializable value to string\n",
    "    return serializable_dict\n",
    "\n",
    "def publish_to_kafka(file_path, producer=producer, chunk_size=1000):\n",
    "    \"\"\" \n",
    "    Send each row to kafka mysql topic\n",
    "    \n",
    "    Uncomment either the environment code if using .env file or \n",
    "    variable code to set directly.\n",
    "    \n",
    "    SLEEP variable can be adjusted as desired. 1 is the minimum recommended setting. \n",
    "    Setting to 0 will crash the Kafka server unless a more robust EC2 setup is created.\n",
    "    \"\"\"\n",
    "    try:\n",
    "        with open(file_path, 'r') as file:\n",
    "            reader = csv.DictReader(file)\n",
    "            while True:\n",
    "                chunk = []\n",
    "                for _ in range(chunk_size):\n",
    "                    try:\n",
    "                        chunk.append(next(reader))\n",
    "                    except StopIteration:\n",
    "                        break\n",
    "                if not chunk:\n",
    "                    break\n",
    "                for row in chunk:\n",
    "                    # Convert row to JSON\n",
    "                    row = make_serializable(row)\n",
    "                    json_data = row\n",
    "\n",
    "                    # Publish row to Kafka\n",
    "                    producer.send('mysql', value=json_data)\n",
    "                    producer.flush()\n",
    "                    sleep(SLEEP)\n",
    "    finally:\n",
    "        producer.close()"
   ]
  },
  {
   "cell_type": "code",
   "execution_count": 14,
   "metadata": {},
   "outputs": [
    {
     "ename": "KeyboardInterrupt",
     "evalue": "",
     "output_type": "error",
     "traceback": [
      "\u001b[0;31m---------------------------------------------------------------------------\u001b[0m",
      "\u001b[0;31mKeyboardInterrupt\u001b[0m                         Traceback (most recent call last)",
      "Cell \u001b[0;32mIn[14], line 1\u001b[0m\n\u001b[0;32m----> 1\u001b[0m \u001b[43mpublish_to_kafka\u001b[49m\u001b[43m(\u001b[49m\u001b[38;5;124;43m\"\u001b[39;49m\u001b[38;5;124;43m../../../../data/Iowa_Liquor_Sales.csv\u001b[39;49m\u001b[38;5;124;43m\"\u001b[39;49m\u001b[43m)\u001b[49m\n",
      "Cell \u001b[0;32mIn[13], line 41\u001b[0m, in \u001b[0;36mpublish_to_kafka\u001b[0;34m(file_path, producer, chunk_size)\u001b[0m\n\u001b[1;32m     39\u001b[0m                 \u001b[38;5;66;03m# Publish row to Kafka\u001b[39;00m\n\u001b[1;32m     40\u001b[0m                 producer\u001b[38;5;241m.\u001b[39msend(\u001b[38;5;124m'\u001b[39m\u001b[38;5;124mmysql\u001b[39m\u001b[38;5;124m'\u001b[39m, value\u001b[38;5;241m=\u001b[39mjson_data)\n\u001b[0;32m---> 41\u001b[0m                 \u001b[43mproducer\u001b[49m\u001b[38;5;241;43m.\u001b[39;49m\u001b[43mflush\u001b[49m\u001b[43m(\u001b[49m\u001b[43m)\u001b[49m\n\u001b[1;32m     42\u001b[0m                 sleep(SLEEP)\n\u001b[1;32m     43\u001b[0m \u001b[38;5;28;01mfinally\u001b[39;00m:\n",
      "File \u001b[0;32m~/miniconda3/envs/kafka/lib/python3.11/site-packages/kafka/producer/kafka.py:649\u001b[0m, in \u001b[0;36mKafkaProducer.flush\u001b[0;34m(self, timeout)\u001b[0m\n\u001b[1;32m    647\u001b[0m \u001b[38;5;28mself\u001b[39m\u001b[38;5;241m.\u001b[39m_accumulator\u001b[38;5;241m.\u001b[39mbegin_flush()\n\u001b[1;32m    648\u001b[0m \u001b[38;5;28mself\u001b[39m\u001b[38;5;241m.\u001b[39m_sender\u001b[38;5;241m.\u001b[39mwakeup()\n\u001b[0;32m--> 649\u001b[0m \u001b[38;5;28;43mself\u001b[39;49m\u001b[38;5;241;43m.\u001b[39;49m\u001b[43m_accumulator\u001b[49m\u001b[38;5;241;43m.\u001b[39;49m\u001b[43mawait_flush_completion\u001b[49m\u001b[43m(\u001b[49m\u001b[43mtimeout\u001b[49m\u001b[38;5;241;43m=\u001b[39;49m\u001b[43mtimeout\u001b[49m\u001b[43m)\u001b[49m\n",
      "File \u001b[0;32m~/miniconda3/envs/kafka/lib/python3.11/site-packages/kafka/producer/record_accumulator.py:528\u001b[0m, in \u001b[0;36mRecordAccumulator.await_flush_completion\u001b[0;34m(self, timeout)\u001b[0m\n\u001b[1;32m    525\u001b[0m \u001b[38;5;28;01mfor\u001b[39;00m batch \u001b[38;5;129;01min\u001b[39;00m \u001b[38;5;28mself\u001b[39m\u001b[38;5;241m.\u001b[39m_incomplete\u001b[38;5;241m.\u001b[39mall():\n\u001b[1;32m    526\u001b[0m     log\u001b[38;5;241m.\u001b[39mdebug(\u001b[38;5;124m'\u001b[39m\u001b[38;5;124mWaiting on produce to \u001b[39m\u001b[38;5;132;01m%s\u001b[39;00m\u001b[38;5;124m'\u001b[39m,\n\u001b[1;32m    527\u001b[0m               batch\u001b[38;5;241m.\u001b[39mproduce_future\u001b[38;5;241m.\u001b[39mtopic_partition)\n\u001b[0;32m--> 528\u001b[0m     \u001b[38;5;28;01mif\u001b[39;00m \u001b[38;5;129;01mnot\u001b[39;00m \u001b[43mbatch\u001b[49m\u001b[38;5;241;43m.\u001b[39;49m\u001b[43mproduce_future\u001b[49m\u001b[38;5;241;43m.\u001b[39;49m\u001b[43mwait\u001b[49m\u001b[43m(\u001b[49m\u001b[43mtimeout\u001b[49m\u001b[38;5;241;43m=\u001b[39;49m\u001b[43mtimeout\u001b[49m\u001b[43m)\u001b[49m:\n\u001b[1;32m    529\u001b[0m         \u001b[38;5;28;01mraise\u001b[39;00m Errors\u001b[38;5;241m.\u001b[39mKafkaTimeoutError(\u001b[38;5;124m'\u001b[39m\u001b[38;5;124mTimeout waiting for future\u001b[39m\u001b[38;5;124m'\u001b[39m)\n\u001b[1;32m    530\u001b[0m     \u001b[38;5;28;01mif\u001b[39;00m \u001b[38;5;129;01mnot\u001b[39;00m batch\u001b[38;5;241m.\u001b[39mproduce_future\u001b[38;5;241m.\u001b[39mis_done:\n",
      "File \u001b[0;32m~/miniconda3/envs/kafka/lib/python3.11/site-packages/kafka/producer/future.py:28\u001b[0m, in \u001b[0;36mFutureProduceResult.wait\u001b[0;34m(self, timeout)\u001b[0m\n\u001b[1;32m     26\u001b[0m \u001b[38;5;28;01mdef\u001b[39;00m \u001b[38;5;21mwait\u001b[39m(\u001b[38;5;28mself\u001b[39m, timeout\u001b[38;5;241m=\u001b[39m\u001b[38;5;28;01mNone\u001b[39;00m):\n\u001b[1;32m     27\u001b[0m     \u001b[38;5;66;03m# wait() on python2.6 returns None instead of the flag value\u001b[39;00m\n\u001b[0;32m---> 28\u001b[0m     \u001b[38;5;28;01mreturn\u001b[39;00m \u001b[38;5;28;43mself\u001b[39;49m\u001b[38;5;241;43m.\u001b[39;49m\u001b[43m_latch\u001b[49m\u001b[38;5;241;43m.\u001b[39;49m\u001b[43mwait\u001b[49m\u001b[43m(\u001b[49m\u001b[43mtimeout\u001b[49m\u001b[43m)\u001b[49m \u001b[38;5;129;01mor\u001b[39;00m \u001b[38;5;28mself\u001b[39m\u001b[38;5;241m.\u001b[39m_latch\u001b[38;5;241m.\u001b[39mis_set()\n",
      "File \u001b[0;32m~/miniconda3/envs/kafka/lib/python3.11/threading.py:629\u001b[0m, in \u001b[0;36mEvent.wait\u001b[0;34m(self, timeout)\u001b[0m\n\u001b[1;32m    627\u001b[0m signaled \u001b[38;5;241m=\u001b[39m \u001b[38;5;28mself\u001b[39m\u001b[38;5;241m.\u001b[39m_flag\n\u001b[1;32m    628\u001b[0m \u001b[38;5;28;01mif\u001b[39;00m \u001b[38;5;129;01mnot\u001b[39;00m signaled:\n\u001b[0;32m--> 629\u001b[0m     signaled \u001b[38;5;241m=\u001b[39m \u001b[38;5;28;43mself\u001b[39;49m\u001b[38;5;241;43m.\u001b[39;49m\u001b[43m_cond\u001b[49m\u001b[38;5;241;43m.\u001b[39;49m\u001b[43mwait\u001b[49m\u001b[43m(\u001b[49m\u001b[43mtimeout\u001b[49m\u001b[43m)\u001b[49m\n\u001b[1;32m    630\u001b[0m \u001b[38;5;28;01mreturn\u001b[39;00m signaled\n",
      "File \u001b[0;32m~/miniconda3/envs/kafka/lib/python3.11/threading.py:327\u001b[0m, in \u001b[0;36mCondition.wait\u001b[0;34m(self, timeout)\u001b[0m\n\u001b[1;32m    325\u001b[0m \u001b[38;5;28;01mtry\u001b[39;00m:    \u001b[38;5;66;03m# restore state no matter what (e.g., KeyboardInterrupt)\u001b[39;00m\n\u001b[1;32m    326\u001b[0m     \u001b[38;5;28;01mif\u001b[39;00m timeout \u001b[38;5;129;01mis\u001b[39;00m \u001b[38;5;28;01mNone\u001b[39;00m:\n\u001b[0;32m--> 327\u001b[0m         \u001b[43mwaiter\u001b[49m\u001b[38;5;241;43m.\u001b[39;49m\u001b[43macquire\u001b[49m\u001b[43m(\u001b[49m\u001b[43m)\u001b[49m\n\u001b[1;32m    328\u001b[0m         gotit \u001b[38;5;241m=\u001b[39m \u001b[38;5;28;01mTrue\u001b[39;00m\n\u001b[1;32m    329\u001b[0m     \u001b[38;5;28;01melse\u001b[39;00m:\n",
      "\u001b[0;31mKeyboardInterrupt\u001b[0m: "
     ]
    }
   ],
   "source": [
    "publish_to_kafka(\"../../../../data/Iowa_Liquor_Sales.csv\")"
   ]
  },
  {
   "cell_type": "markdown",
   "metadata": {},
   "source": [
    "View Topics\n",
    "\n",
    "Kafka Docker\n",
    "\n",
    "1. `docker exec -it kafka1 bash`\n",
    "1. `cd /usr/bin`\n",
    "1. `kafka-topics --list --bootstrap-server hostname:9092`\n",
    "    - Edit the script below for desired topic\n",
    "1. `kafka-console-consumer --bootstrap-server localhost:9092 --topic mysql --from-beginning`"
   ]
  },
  {
   "cell_type": "markdown",
   "metadata": {},
   "source": [
    "Manually flush data when done"
   ]
  },
  {
   "cell_type": "code",
   "execution_count": null,
   "metadata": {},
   "outputs": [],
   "source": [
    "producer.flush()"
   ]
  }
 ],
 "metadata": {
  "kernelspec": {
   "display_name": "kafka",
   "language": "python",
   "name": "python3"
  },
  "language_info": {
   "codemirror_mode": {
    "name": "ipython",
    "version": 3
   },
   "file_extension": ".py",
   "mimetype": "text/x-python",
   "name": "python",
   "nbconvert_exporter": "python",
   "pygments_lexer": "ipython3",
   "version": "3.11.8"
  }
 },
 "nbformat": 4,
 "nbformat_minor": 2
}
