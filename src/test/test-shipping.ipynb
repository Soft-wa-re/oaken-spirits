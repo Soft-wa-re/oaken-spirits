{
 "cells": [
  {
   "cell_type": "markdown",
   "metadata": {},
   "source": [
    "Test shipping"
   ]
  },
  {
   "cell_type": "code",
   "execution_count": null,
   "metadata": {},
   "outputs": [],
   "source": [
    "import sys\n",
    "import os\n",
    "import json\n",
    "import logging\n",
    "from kafka import KafkaConsumer, KafkaProducer\n",
    "from json import loads\n",
    "import random\n",
    "import datetime\n",
    "import mysql.connector\n",
    "import boto3\n",
    "from logging.handlers import RotatingFileHandler"
   ]
  },
  {
   "cell_type": "code",
   "execution_count": null,
   "metadata": {},
   "outputs": [],
   "source": [
    "def shipping_consumer():\n",
    "    # MySQL connection\n",
    "    mysql_conn = mysql.connector.connect(\n",
    "        host=MYSQL_HOST,\n",
    "        user=MYSQL_USER,\n",
    "        password=MYSQL_PASSWORD,\n",
    "        database=MYSQL_DATABASE\n",
    "    )\n",
    "    mysql_cursor = mysql_conn.cursor()\n",
    "\n",
    "    # Kafka\n",
    "    sales_consumer = KafkaConsumer(\n",
    "        'invoices',\n",
    "        bootstrap_servers=['localhost:9092'],\n",
    "        auto_offset_reset='earliest',  # Start consuming from the earliest offset\n",
    "        enable_auto_commit=True,       # Automatically commit offsets\n",
    "        group_id='oaken_shipping_group',  # Specify a consumer group\n",
    "        value_deserializer=lambda x: loads(x.decode('utf-8')))\n",
    "\n",
    "    sales_consumer.subscribe(topics='invoices')\n",
    "\n",
    "    shipping_producer = KafkaProducer(bootstrap_servers=['localhost:9092'],,\n",
    "                            value_serializer=lambda x: json.dumps(x).encode('utf-8'))\n",
    "\n",
    "    for message in sales_consumer:\n",
    "        try:\n",
    "            data = message.value\n",
    "            invoice = data.get('Invoice', '')\n",
    "            date_str = data.get('SaleDate')\n",
    "            sales_date = datetime.datetime.strptime(date_str, '%m/%d/%Y').date()\n",
    "            sales = data.get('SaleDollars')\n",
    "\n",
    "            shipping_cost = round(float(sales) * 0.05,2)\n",
    "\n",
    "            random_days = random.randint(0, 4)\n",
    "            shipping_date = sales_date + datetime.timedelta(days=random_days)\n",
    "\n",
    "            # MySQL\n",
    "            UPDATE_QUERY = \"\"\"\n",
    "                UPDATE sales\n",
    "                SET ShippingDate = %s, ShippingCost = %s\n",
    "                WHERE Invoice = %s\n",
    "            \"\"\"\n",
    "\n",
    "            update_data = (shipping_date, shipping_cost, invoice)\n",
    "            mysql_cursor.execute(UPDATE_QUERY, update_data)\n",
    "\n",
    "            mysql_conn.commit()\n",
    "\n",
    "            # Kafka topic\n",
    "            shipping_info = {\n",
    "                'Invoice': invoice,\n",
    "                'SalesDate': date_str,\n",
    "                'SaleDollars': sales,\n",
    "                'ShippingDate': shipping_date,\n",
    "                'ShippingCost': shipping_cost\n",
    "            }\n",
    "\n",
    "            shipping_producer.send(SHIPPING_TOPIC, value=shipping_info)\n",
    "            shipping_producer.flush()\n",
    "\n",
    "        except Exception as e:\n",
    "            logger.error(f\"Error processing message: {e}\")\n",
    "            pass\n",
    "\n",
    "    # Close MySQL connection\n",
    "    mysql_cursor.close()\n",
    "    mysql_conn.close()"
   ]
  },
  {
   "cell_type": "code",
   "execution_count": null,
   "metadata": {},
   "outputs": [],
   "source": [
    "shipping_consumer()"
   ]
  },
  {
   "cell_type": "code",
   "execution_count": null,
   "metadata": {},
   "outputs": [],
   "source": [
    "# sample output\n",
    "'''\n",
    "{'Invoice/Item Number': 'S29198800001', 'Date': '11/20/2015', 'Store Number': '2191', 'Store Name': 'Keokuk Spirits', \n",
    "'Address': '1013 MAIN', 'City': 'KEOKUK', 'Zip Code': '52632', 'Store Location': '1013 MAIN\\nKEOKUK 52632\\n(40.39978, -91.387531)', \n",
    "'County Number': '56', 'County': 'Lee', 'Category': '', 'Category Name': '', 'Vendor Number': '255', 'Vendor Name': 'Wilson Daniels Ltd.', \n",
    "'Item Number': '297', 'Item Description': 'Templeton Rye w/Flask', 'Pack': '6', 'Bottle Volume (ml)': '750', 'State Bottle Cost': '$18.09', \n",
    "'State Bottle Retail': '$27.14', 'Bottles Sold': '6', 'Sale (Dollars)': '$162.84', 'Volume Sold (Liters)': '4.50', 'Volume Sold (Gallons)': '1.19'}\n",
    "'''"
   ]
  }
 ],
 "metadata": {
  "kernelspec": {
   "display_name": "kafka",
   "language": "python",
   "name": "python3"
  },
  "language_info": {
   "codemirror_mode": {
    "name": "ipython",
    "version": 3
   },
   "file_extension": ".py",
   "mimetype": "text/x-python",
   "name": "python",
   "nbconvert_exporter": "python",
   "pygments_lexer": "ipython3",
   "version": "3.11.8"
  }
 },
 "nbformat": 4,
 "nbformat_minor": 2
}
