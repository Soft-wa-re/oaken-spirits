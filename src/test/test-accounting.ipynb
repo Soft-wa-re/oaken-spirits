{
 "cells": [
  {
   "cell_type": "markdown",
   "metadata": {},
   "source": [
    "Test shipping"
   ]
  },
  {
   "cell_type": "code",
   "execution_count": null,
   "metadata": {},
   "outputs": [],
   "source": [
    "import sys\n",
    "import os\n",
    "import json\n",
    "import logging\n",
    "from kafka import KafkaConsumer, KafkaProducer\n",
    "from json import loads\n",
    "import random\n",
    "import datetime\n",
    "import mysql.connector\n",
    "import boto3\n",
    "from logging.handlers import RotatingFileHandler"
   ]
  },
  {
   "cell_type": "code",
   "execution_count": null,
   "metadata": {},
   "outputs": [],
   "source": [
    "def accounting_consumer():\n",
    "    mysql_conn = mysql.connector.connect(\n",
    "    host=MYSQL_HOST,\n",
    "    user=MYSQL_USER,\n",
    "    password=MYSQL_PASSWORD,\n",
    "    database=MYSQL_DATABASE\n",
    "    )\n",
    "    mysql_cursor = mysql_conn.cursor()\n",
    "\n",
    "    # Kafka consumers\n",
    "    shipping_consumer = KafkaConsumer(\n",
    "        'shipping',\n",
    "        bootstrap_servers=[KAFKA_SERVER ],\n",
    "        auto_offset_reset='earliest',  # Start consuming from the earliest offset\n",
    "        enable_auto_commit=True,       # Automatically commit offsets\n",
    "        group_id='oaken_accounting_group',  # Specify a consumer group\n",
    "        value_deserializer=lambda x: loads(x.decode('utf-8')))\n",
    "\n",
    "    shipping_consumer.subscribe(topics=[SHIPPING_TOPIC])\n",
    "\n",
    "    for shipping_message in shipping_consumer:\n",
    "        try:\n",
    "            shipping_data = shipping_message.value\n",
    "\n",
    "            invoice = shipping_data.get('Invoice', '')\n",
    "\n",
    "            shipping_expense = float(shipping_data.get('ShippingCost')) * -1\n",
    "\n",
    "            sales = float(shipping_data.get('SaleDollars'))\n",
    "\n",
    "            # MySQL\n",
    "            try:\n",
    "                LEDGER_CREDIT = \"\"\"\n",
    "                    INSERT INTO ledger (Invoice, Credit, Note)\n",
    "                    VALUES (%s, %s, 'Sale')\n",
    "                \"\"\"\n",
    "                credit_data = (invoice, sales)\n",
    "                mysql_cursor.execute(LEDGER_CREDIT, credit_data)\n",
    "                mysql_conn.commit()\n",
    "            except Exception as e:\n",
    "                logger.error(f\"Error processing message: {e}\")\n",
    "                pass\n",
    "\n",
    "            try:\n",
    "                LEDGER_DEBIT = \"\"\"\n",
    "                    INSERT INTO salesLedger (Invoice, Debit, Note)\n",
    "                    VALUES (%s, %s, 'Shipping')\n",
    "                \"\"\"\n",
    "                debit_data = (invoice, shipping_expense)\n",
    "                mysql_cursor.execute(LEDGER_DEBIT, debit_data)\n",
    "                mysql_conn.commit()\n",
    "            except Exception as e:\n",
    "                logger.error(f\"Error processing message: {e}\")\n",
    "                pass\n",
    "\n",
    "        except Exception as e:\n",
    "            logger.error(f\"Error processing message: {e}\")\n",
    "            pass\n",
    "\n",
    "    mysql_cursor.close()\n",
    "    mysql_conn.close()"
   ]
  },
  {
   "cell_type": "code",
   "execution_count": null,
   "metadata": {},
   "outputs": [],
   "source": [
    "accounting_consumer()"
   ]
  },
  {
   "cell_type": "code",
   "execution_count": null,
   "metadata": {},
   "outputs": [],
   "source": [
    "# sample output\n",
    "'''\n",
    "{'Invoice/Item Number': 'S29198800001', 'Date': '11/20/2015', 'Store Number': '2191', 'Store Name': 'Keokuk Spirits', \n",
    "'Address': '1013 MAIN', 'City': 'KEOKUK', 'Zip Code': '52632', 'Store Location': '1013 MAIN\\nKEOKUK 52632\\n(40.39978, -91.387531)', \n",
    "'County Number': '56', 'County': 'Lee', 'Category': '', 'Category Name': '', 'Vendor Number': '255', 'Vendor Name': 'Wilson Daniels Ltd.', \n",
    "'Item Number': '297', 'Item Description': 'Templeton Rye w/Flask', 'Pack': '6', 'Bottle Volume (ml)': '750', 'State Bottle Cost': '$18.09', \n",
    "'State Bottle Retail': '$27.14', 'Bottles Sold': '6', 'Sale (Dollars)': '$162.84', 'Volume Sold (Liters)': '4.50', 'Volume Sold (Gallons)': '1.19'}\n",
    "'''"
   ]
  }
 ],
 "metadata": {
  "kernelspec": {
   "display_name": "kafka",
   "language": "python",
   "name": "python3"
  },
  "language_info": {
   "codemirror_mode": {
    "name": "ipython",
    "version": 3
   },
   "file_extension": ".py",
   "mimetype": "text/x-python",
   "name": "python",
   "nbconvert_exporter": "python",
   "pygments_lexer": "ipython3",
   "version": "3.11.8"
  }
 },
 "nbformat": 4,
 "nbformat_minor": 2
}
