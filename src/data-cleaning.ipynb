{
 "cells": [
  {
   "cell_type": "code",
   "execution_count": 1,
   "metadata": {},
   "outputs": [],
   "source": [
    "import pandas as pd"
   ]
  },
  {
   "cell_type": "code",
   "execution_count": 2,
   "metadata": {},
   "outputs": [],
   "source": [
    "df = pd.read_csv(\"../data/Iowa_Liquor_Sales_dirty.csv\",low_memory=False)"
   ]
  },
  {
   "cell_type": "code",
   "execution_count": 3,
   "metadata": {},
   "outputs": [
    {
     "data": {
      "text/plain": [
       "pandas.core.frame.DataFrame"
      ]
     },
     "execution_count": 3,
     "metadata": {},
     "output_type": "execute_result"
    }
   ],
   "source": [
    "type(df)"
   ]
  },
  {
   "cell_type": "code",
   "execution_count": 4,
   "metadata": {},
   "outputs": [
    {
     "data": {
      "text/plain": [
       "Index(['Invoice/Item Number', 'Date', 'Store Number', 'Store Name', 'Address',\n",
       "       'City', 'Zip Code', 'Store Location', 'County Number', 'County',\n",
       "       'Category', 'Category Name', 'Vendor Number', 'Vendor Name',\n",
       "       'Item Number', 'Item Description', 'Pack', 'Bottle Volume (ml)',\n",
       "       'State Bottle Cost', 'State Bottle Retail', 'Bottles Sold',\n",
       "       'Sale (Dollars)', 'Volume Sold (Liters)', 'Volume Sold (Gallons)'],\n",
       "      dtype='object')"
      ]
     },
     "execution_count": 4,
     "metadata": {},
     "output_type": "execute_result"
    }
   ],
   "source": [
    "df.columns"
   ]
  },
  {
   "cell_type": "code",
   "execution_count": 5,
   "metadata": {},
   "outputs": [],
   "source": [
    "df['State']= 'Iowa'"
   ]
  },
  {
   "cell_type": "code",
   "execution_count": 6,
   "metadata": {},
   "outputs": [
    {
     "data": {
      "text/plain": [
       "Index(['Invoice/ItemNumber', 'Date', 'StoreNumber', 'StoreName', 'Address',\n",
       "       'City', 'ZipCode', 'StoreLocation', 'CountyNumber', 'County',\n",
       "       'Category', 'CategoryName', 'VendorNumber', 'VendorName', 'ItemNumber',\n",
       "       'ItemDescription', 'Pack', 'BottleVolume(ml)', 'StateBottleCost',\n",
       "       'StateBottleRetail', 'BottlesSold', 'Sale(Dollars)',\n",
       "       'VolumeSold(Liters)', 'VolumeSold(Gallons)', 'State'],\n",
       "      dtype='object')"
      ]
     },
     "execution_count": 6,
     "metadata": {},
     "output_type": "execute_result"
    }
   ],
   "source": [
    "df.columns = [x.replace(' ', '') for x in df.columns]\n",
    "df.columns"
   ]
  },
  {
   "cell_type": "code",
   "execution_count": 7,
   "metadata": {},
   "outputs": [
    {
     "data": {
      "text/plain": [
       "Index(['Invoice/ItemNumber', 'Date', 'StoreNumber', 'StoreName', 'Address',\n",
       "       'City', 'ZipCode', 'StoreLocation', 'CountyNumber', 'County',\n",
       "       'Category', 'CategoryName', 'VendorNumber', 'VendorName', 'ItemNumber',\n",
       "       'ItemDescription', 'Pack', 'BottleVolume(ml)', 'StateBottleCost',\n",
       "       'StateBottleRetail', 'BottlesSold', 'Sale(Dollars)',\n",
       "       'VolumeSold(Liters)', 'VolumeSold(Gallons)', 'State'],\n",
       "      dtype='object')"
      ]
     },
     "execution_count": 7,
     "metadata": {},
     "output_type": "execute_result"
    }
   ],
   "source": [
    "# Find the columns where every value is null\n",
    "empty_cols = [col for col in df.columns if df[col].isnull().all()]\n",
    "# Drop these columns\n",
    "df.drop(empty_cols,\n",
    "        axis=1,\n",
    "        inplace=True)\n",
    "\n",
    "df.columns"
   ]
  },
  {
   "cell_type": "code",
   "execution_count": 8,
   "metadata": {},
   "outputs": [
    {
     "name": "stdout",
     "output_type": "stream",
     "text": [
      "<class 'pandas.core.frame.DataFrame'>\n",
      "RangeIndex: 12591077 entries, 0 to 12591076\n",
      "Data columns (total 25 columns):\n",
      " #   Column               Dtype  \n",
      "---  ------               -----  \n",
      " 0   Invoice/ItemNumber   object \n",
      " 1   Date                 object \n",
      " 2   StoreNumber          int64  \n",
      " 3   StoreName            object \n",
      " 4   Address              object \n",
      " 5   City                 object \n",
      " 6   ZipCode              object \n",
      " 7   StoreLocation        object \n",
      " 8   CountyNumber         float64\n",
      " 9   County               object \n",
      " 10  Category             float64\n",
      " 11  CategoryName         object \n",
      " 12  VendorNumber         float64\n",
      " 13  VendorName           object \n",
      " 14  ItemNumber           int64  \n",
      " 15  ItemDescription      object \n",
      " 16  Pack                 int64  \n",
      " 17  BottleVolume(ml)     int64  \n",
      " 18  StateBottleCost      object \n",
      " 19  StateBottleRetail    object \n",
      " 20  BottlesSold          int64  \n",
      " 21  Sale(Dollars)        object \n",
      " 22  VolumeSold(Liters)   float64\n",
      " 23  VolumeSold(Gallons)  float64\n",
      " 24  State                object \n",
      "dtypes: float64(5), int64(5), object(15)\n",
      "memory usage: 2.3+ GB\n"
     ]
    }
   ],
   "source": [
    "df.info()"
   ]
  },
  {
   "cell_type": "code",
   "execution_count": 9,
   "metadata": {},
   "outputs": [
    {
     "data": {
      "text/html": [
       "<div>\n",
       "<style scoped>\n",
       "    .dataframe tbody tr th:only-of-type {\n",
       "        vertical-align: middle;\n",
       "    }\n",
       "\n",
       "    .dataframe tbody tr th {\n",
       "        vertical-align: top;\n",
       "    }\n",
       "\n",
       "    .dataframe thead th {\n",
       "        text-align: right;\n",
       "    }\n",
       "</style>\n",
       "<table border=\"1\" class=\"dataframe\">\n",
       "  <thead>\n",
       "    <tr style=\"text-align: right;\">\n",
       "      <th></th>\n",
       "      <th>Invoice/ItemNumber</th>\n",
       "      <th>Date</th>\n",
       "      <th>StoreNumber</th>\n",
       "      <th>StoreName</th>\n",
       "      <th>Address</th>\n",
       "      <th>City</th>\n",
       "      <th>ZipCode</th>\n",
       "      <th>StoreLocation</th>\n",
       "      <th>CountyNumber</th>\n",
       "      <th>County</th>\n",
       "      <th>...</th>\n",
       "      <th>ItemDescription</th>\n",
       "      <th>Pack</th>\n",
       "      <th>BottleVolume(ml)</th>\n",
       "      <th>StateBottleCost</th>\n",
       "      <th>StateBottleRetail</th>\n",
       "      <th>BottlesSold</th>\n",
       "      <th>Sale(Dollars)</th>\n",
       "      <th>VolumeSold(Liters)</th>\n",
       "      <th>VolumeSold(Gallons)</th>\n",
       "      <th>State</th>\n",
       "    </tr>\n",
       "  </thead>\n",
       "  <tbody>\n",
       "    <tr>\n",
       "      <th>0</th>\n",
       "      <td>S29198800001</td>\n",
       "      <td>11/20/2015</td>\n",
       "      <td>2191</td>\n",
       "      <td>Keokuk Spirits</td>\n",
       "      <td>1013 MAIN</td>\n",
       "      <td>KEOKUK</td>\n",
       "      <td>52632</td>\n",
       "      <td>1013 MAIN\\nKEOKUK 52632\\n(40.39978, -91.387531)</td>\n",
       "      <td>56.0</td>\n",
       "      <td>Lee</td>\n",
       "      <td>...</td>\n",
       "      <td>Templeton Rye w/Flask</td>\n",
       "      <td>6</td>\n",
       "      <td>750</td>\n",
       "      <td>$18.09</td>\n",
       "      <td>$27.14</td>\n",
       "      <td>6</td>\n",
       "      <td>$162.84</td>\n",
       "      <td>4.5</td>\n",
       "      <td>1.19</td>\n",
       "      <td>Iowa</td>\n",
       "    </tr>\n",
       "    <tr>\n",
       "      <th>1</th>\n",
       "      <td>S29195400002</td>\n",
       "      <td>11/21/2015</td>\n",
       "      <td>2205</td>\n",
       "      <td>Ding's Honk And Holler</td>\n",
       "      <td>900 E WASHINGTON</td>\n",
       "      <td>CLARINDA</td>\n",
       "      <td>51632</td>\n",
       "      <td>900 E WASHINGTON\\nCLARINDA 51632\\n(40.739238, ...</td>\n",
       "      <td>73.0</td>\n",
       "      <td>Page</td>\n",
       "      <td>...</td>\n",
       "      <td>Templeton Rye w/Flask</td>\n",
       "      <td>6</td>\n",
       "      <td>750</td>\n",
       "      <td>$18.09</td>\n",
       "      <td>$27.14</td>\n",
       "      <td>12</td>\n",
       "      <td>$325.68</td>\n",
       "      <td>9.0</td>\n",
       "      <td>2.38</td>\n",
       "      <td>Iowa</td>\n",
       "    </tr>\n",
       "  </tbody>\n",
       "</table>\n",
       "<p>2 rows × 25 columns</p>\n",
       "</div>"
      ],
      "text/plain": [
       "  Invoice/ItemNumber        Date  StoreNumber               StoreName  \\\n",
       "0       S29198800001  11/20/2015         2191          Keokuk Spirits   \n",
       "1       S29195400002  11/21/2015         2205  Ding's Honk And Holler   \n",
       "\n",
       "            Address      City ZipCode  \\\n",
       "0         1013 MAIN    KEOKUK   52632   \n",
       "1  900 E WASHINGTON  CLARINDA   51632   \n",
       "\n",
       "                                       StoreLocation  CountyNumber County  \\\n",
       "0    1013 MAIN\\nKEOKUK 52632\\n(40.39978, -91.387531)          56.0    Lee   \n",
       "1  900 E WASHINGTON\\nCLARINDA 51632\\n(40.739238, ...          73.0   Page   \n",
       "\n",
       "   ...        ItemDescription Pack  BottleVolume(ml) StateBottleCost  \\\n",
       "0  ...  Templeton Rye w/Flask    6               750          $18.09   \n",
       "1  ...  Templeton Rye w/Flask    6               750          $18.09   \n",
       "\n",
       "   StateBottleRetail BottlesSold  Sale(Dollars)  VolumeSold(Liters)  \\\n",
       "0             $27.14           6        $162.84                 4.5   \n",
       "1             $27.14          12        $325.68                 9.0   \n",
       "\n",
       "  VolumeSold(Gallons) State  \n",
       "0                1.19  Iowa  \n",
       "1                2.38  Iowa  \n",
       "\n",
       "[2 rows x 25 columns]"
      ]
     },
     "execution_count": 9,
     "metadata": {},
     "output_type": "execute_result"
    }
   ],
   "source": [
    "df.head(2)"
   ]
  },
  {
   "cell_type": "code",
   "execution_count": 10,
   "metadata": {},
   "outputs": [
    {
     "data": {
      "text/plain": [
       "Index(['Invoice/ItemNumber', 'Date', 'StoreNumber', 'StoreName', 'Address',\n",
       "       'City', 'ZipCode', 'CountyNumber', 'County', 'Category', 'CategoryName',\n",
       "       'VendorNumber', 'VendorName', 'ItemNumber', 'ItemDescription', 'Pack',\n",
       "       'BottleVolume(ml)', 'StateBottleCost', 'StateBottleRetail',\n",
       "       'BottlesSold', 'Sale(Dollars)', 'VolumeSold(Liters)',\n",
       "       'VolumeSold(Gallons)', 'State'],\n",
       "      dtype='object')"
      ]
     },
     "execution_count": 10,
     "metadata": {},
     "output_type": "execute_result"
    }
   ],
   "source": [
    "df.drop(columns=['StoreLocation'], inplace=True)\n",
    "\n",
    "df.columns"
   ]
  },
  {
   "cell_type": "code",
   "execution_count": 12,
   "metadata": {},
   "outputs": [],
   "source": [
    "df.to_csv(\"../data/Iowa_Liquor_Sales.csv\", index=False)"
   ]
  }
 ],
 "metadata": {
  "kernelspec": {
   "display_name": "base",
   "language": "python",
   "name": "python3"
  },
  "language_info": {
   "codemirror_mode": {
    "name": "ipython",
    "version": 3
   },
   "file_extension": ".py",
   "mimetype": "text/x-python",
   "name": "python",
   "nbconvert_exporter": "python",
   "pygments_lexer": "ipython3",
   "version": "3.11.8"
  }
 },
 "nbformat": 4,
 "nbformat_minor": 2
}
