{
 "cells": [
  {
   "cell_type": "code",
   "execution_count": 1,
   "metadata": {},
   "outputs": [],
   "source": [
    "import requests\n",
    "import pandas as pd\n",
    "from kafka import KafkaProducer\n",
    "from time import sleep\n",
    "from json import dumps\n",
    "import csv"
   ]
  },
  {
   "cell_type": "markdown",
   "metadata": {},
   "source": [
    "Connect to Kafka"
   ]
  },
  {
   "cell_type": "code",
   "execution_count": null,
   "metadata": {},
   "outputs": [],
   "source": [
    "producer = KafkaProducer(bootstrap_servers=['100.25.219.224:9092'],\n",
    "                         value_serializer=lambda x: \n",
    "                         dumps(x).encode('utf-8'))"
   ]
  },
  {
   "cell_type": "markdown",
   "metadata": {},
   "source": [
    "Start streaming"
   ]
  },
  {
   "cell_type": "code",
   "execution_count": null,
   "metadata": {},
   "outputs": [],
   "source": [
    "MY_SQL_API_URL='http://your-api-url/endpoint'\n",
    "\n",
    "def publish_to_kafka(file_path,producer=producer,chunk_size=1000):\n",
    "    \"\"\" \n",
    "    Send each row to MySQl API Kafka and\n",
    "    \"\"\"\n",
    "    with open(file_path, 'r') as file:\n",
    "        reader = csv.DictReader(file)\n",
    "        while True:\n",
    "            chunk = []\n",
    "            for _ in range(chunk_size):\n",
    "                try:\n",
    "                    chunk.append(next(reader))\n",
    "                except StopIteration:\n",
    "                    break\n",
    "            if not chunk:\n",
    "                break\n",
    "            for row in chunk:\n",
    "                # Convert row to JSON\n",
    "                json_data = dumps(row)\n",
    "                \n",
    "                # Send row to MYSQL API\n",
    "                try:\n",
    "                    response = requests.post(MY_SQL_API_URL, json=json_data)\n",
    "                    response.raise_for_status()\n",
    "                    print(f\"API response: {response.json()}\")\n",
    "                except Exception as e:\n",
    "                    print(f\"Error sending row to API: {e}\")\n",
    "\n",
    "                # Publish row to Kafka\n",
    "                producer.send('invoice', value=bytes(json_data, 'utf-8'))\n",
    "                sleep(1)\n",
    "            producer.flush()\n",
    "    producer.close()\n",
    "    producer.close()"
   ]
  },
  {
   "cell_type": "code",
   "execution_count": null,
   "metadata": {},
   "outputs": [],
   "source": [
    "publish_to_kafka(\"data/Iowa_Liquor_Sales.csv\")"
   ]
  },
  {
   "cell_type": "markdown",
   "metadata": {},
   "source": [
    "Manually flush data when done"
   ]
  },
  {
   "cell_type": "code",
   "execution_count": null,
   "metadata": {},
   "outputs": [],
   "source": [
    "producer.flush()"
   ]
  },
  {
   "cell_type": "markdown",
   "metadata": {},
   "source": [
    "Test"
   ]
  },
  {
   "cell_type": "code",
   "execution_count": null,
   "metadata": {},
   "outputs": [],
   "source": [
    "with open(\"data/Iowa_Liquor_Sales.csv\", 'r') as file:\n",
    "    reader = csv.DictReader(file)\n",
    "    while True:\n",
    "        chunk = []\n",
    "        for _ in range(1000):\n",
    "            try:\n",
    "                chunk.append(next(reader))\n",
    "            except StopIteration:\n",
    "                break\n",
    "        if not chunk:\n",
    "            break\n",
    "        for row in chunk:\n",
    "            print(row)"
   ]
  }
 ],
 "metadata": {
  "kernelspec": {
   "display_name": "kafka",
   "language": "python",
   "name": "python3"
  },
  "language_info": {
   "codemirror_mode": {
    "name": "ipython",
    "version": 3
   },
   "file_extension": ".py",
   "mimetype": "text/x-python",
   "name": "python",
   "nbconvert_exporter": "python",
   "pygments_lexer": "ipython3",
   "version": "3.11.8"
  }
 },
 "nbformat": 4,
 "nbformat_minor": 2
}
